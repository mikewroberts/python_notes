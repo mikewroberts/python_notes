{
 "cells": [
  {
   "cell_type": "markdown",
   "metadata": {},
   "source": [
    "# Regex Examples"
   ]
  },
  {
   "cell_type": "markdown",
   "metadata": {},
   "source": [
    "\"Regular Expressions\" \n",
    "- used to compare, search strings\n",
    "- use cases: \n",
    "    - validate emails\n",
    "    - text analysis\n",
    "    - validate password creation"
   ]
  },
  {
   "cell_type": "code",
   "execution_count": 1,
   "metadata": {
    "collapsed": true
   },
   "outputs": [],
   "source": [
    "## need to import this \n",
    "import re"
   ]
  },
  {
   "cell_type": "markdown",
   "metadata": {},
   "source": [
    "### Validate Email\n",
    "** ` re.fullmatch(pattern, string, flags=0)` **"
   ]
  },
  {
   "cell_type": "code",
   "execution_count": 22,
   "metadata": {},
   "outputs": [
    {
     "name": "stdout",
     "output_type": "stream",
     "text": [
      "Valid email!\n"
     ]
    }
   ],
   "source": [
    "pattern = r\"[a-zA-Z0-9]+@[a-zA-Z]+\\.(com|edu|net)\"\n",
    "\n",
    "## TEST CASES -- uncomment one to use it\n",
    "\n",
    "inputEmail = \"mikeroberts@gmail.com\"     # valid\n",
    "# inputEmail = \"mike roberts@gmail.com\"    # invalid\n",
    "# inputEmail = \"mikeroberts#$%@gmail.com\"  # invalid\n",
    "# inputEmail = \"mikeroberts@gmailcom\"      # invalid\n",
    "\n",
    "if(re.fullmatch(pattern, inputEmail)):\n",
    "    print(\"Valid email!\")\n",
    "else:\n",
    "    print(\"Invalid email!\")\n",
    "    \n"
   ]
  },
  {
   "cell_type": "markdown",
   "metadata": {},
   "source": [
    "re.fullmatch is used instead of re.search BECAUSE\n",
    "re.search returns a match object if the pattern is found SOMEWHERE in the string, thus re.search will not pick up the whitespace case"
   ]
  },
  {
   "cell_type": "markdown",
   "metadata": {},
   "source": [
    "### Find Email in String\n",
    "** `re.search(pattern, string, flags=0)` **"
   ]
  },
  {
   "cell_type": "code",
   "execution_count": 23,
   "metadata": {},
   "outputs": [
    {
     "name": "stdout",
     "output_type": "stream",
     "text": [
      "mikeroberts@gmail.com\n"
     ]
    }
   ],
   "source": [
    "pattern = r\"[a-zA-Z0-9]+@[a-zA-Z]+\\.(com|edu|net)\"\n",
    "\n",
    "## TEST CASES -- uncomment one to use it\n",
    "inputString = \"My email is mikeroberts@gmail.com\"\n",
    "# inputString = \"This is a paragraph. There is an email somewehere in it, such as mikeroberts@gmail.com, see?\"\n",
    "\n",
    "searchResult = re.search(pattern, inputString) \n",
    "if(searchResult):\n",
    "    print(searchResult[0])"
   ]
  },
  {
   "cell_type": "code",
   "execution_count": null,
   "metadata": {
    "collapsed": true
   },
   "outputs": [],
   "source": []
  }
 ],
 "metadata": {
  "kernelspec": {
   "display_name": "Python 3",
   "language": "python",
   "name": "python3"
  },
  "language_info": {
   "codemirror_mode": {
    "name": "ipython",
    "version": 3
   },
   "file_extension": ".py",
   "mimetype": "text/x-python",
   "name": "python",
   "nbconvert_exporter": "python",
   "pygments_lexer": "ipython3",
   "version": "3.6.9"
  }
 },
 "nbformat": 4,
 "nbformat_minor": 2
}
